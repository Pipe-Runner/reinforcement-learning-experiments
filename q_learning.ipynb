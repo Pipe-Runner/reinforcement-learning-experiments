{
  "nbformat": 4,
  "nbformat_minor": 0,
  "metadata": {
    "colab": {
      "provenance": [],
      "toc_visible": true,
      "mount_file_id": "1rJzj40vs9hKr-tDSxy4JaysSHQRTIxnU",
      "authorship_tag": "ABX9TyNsmjPbzp7yGq60nQzxyHax",
      "include_colab_link": true
    },
    "kernelspec": {
      "name": "python3",
      "display_name": "Python 3"
    },
    "language_info": {
      "name": "python"
    },
    "widgets": {
      "application/vnd.jupyter.widget-state+json": {
        "405bb55eadec45628afd089d50270b42": {
          "model_module": "@jupyter-widgets/controls",
          "model_name": "HBoxModel",
          "model_module_version": "1.5.0",
          "state": {
            "_dom_classes": [],
            "_model_module": "@jupyter-widgets/controls",
            "_model_module_version": "1.5.0",
            "_model_name": "HBoxModel",
            "_view_count": null,
            "_view_module": "@jupyter-widgets/controls",
            "_view_module_version": "1.5.0",
            "_view_name": "HBoxView",
            "box_style": "",
            "children": [
              "IPY_MODEL_adaca6619f7e424ba691c49db7f44898",
              "IPY_MODEL_9d9044ba92f740feaa847480f4fe95d0",
              "IPY_MODEL_bce59e35195f49679f0184faefe6d15d"
            ],
            "layout": "IPY_MODEL_19e57fb6ebfe48dd817b72e85614446c"
          }
        },
        "adaca6619f7e424ba691c49db7f44898": {
          "model_module": "@jupyter-widgets/controls",
          "model_name": "HTMLModel",
          "model_module_version": "1.5.0",
          "state": {
            "_dom_classes": [],
            "_model_module": "@jupyter-widgets/controls",
            "_model_module_version": "1.5.0",
            "_model_name": "HTMLModel",
            "_view_count": null,
            "_view_module": "@jupyter-widgets/controls",
            "_view_module_version": "1.5.0",
            "_view_name": "HTMLView",
            "description": "",
            "description_tooltip": null,
            "layout": "IPY_MODEL_0777731245364a7cbe97a92a1e258820",
            "placeholder": "​",
            "style": "IPY_MODEL_2b417f22638249dabd85afa98ab95b84",
            "value": "100%"
          }
        },
        "9d9044ba92f740feaa847480f4fe95d0": {
          "model_module": "@jupyter-widgets/controls",
          "model_name": "FloatProgressModel",
          "model_module_version": "1.5.0",
          "state": {
            "_dom_classes": [],
            "_model_module": "@jupyter-widgets/controls",
            "_model_module_version": "1.5.0",
            "_model_name": "FloatProgressModel",
            "_view_count": null,
            "_view_module": "@jupyter-widgets/controls",
            "_view_module_version": "1.5.0",
            "_view_name": "ProgressView",
            "bar_style": "success",
            "description": "",
            "description_tooltip": null,
            "layout": "IPY_MODEL_43195ad1620f4b41b49d553e82cc3c09",
            "max": 10000,
            "min": 0,
            "orientation": "horizontal",
            "style": "IPY_MODEL_8773dccd3d3c45b28eea2ca67df71b00",
            "value": 10000
          }
        },
        "bce59e35195f49679f0184faefe6d15d": {
          "model_module": "@jupyter-widgets/controls",
          "model_name": "HTMLModel",
          "model_module_version": "1.5.0",
          "state": {
            "_dom_classes": [],
            "_model_module": "@jupyter-widgets/controls",
            "_model_module_version": "1.5.0",
            "_model_name": "HTMLModel",
            "_view_count": null,
            "_view_module": "@jupyter-widgets/controls",
            "_view_module_version": "1.5.0",
            "_view_name": "HTMLView",
            "description": "",
            "description_tooltip": null,
            "layout": "IPY_MODEL_a1b939f3b317402c88af7d9dfb4afb60",
            "placeholder": "​",
            "style": "IPY_MODEL_4c8319ea9f2c40879dc84f3d2ec151dd",
            "value": " 10000/10000 [00:25&lt;00:00, 262.19it/s]"
          }
        },
        "19e57fb6ebfe48dd817b72e85614446c": {
          "model_module": "@jupyter-widgets/base",
          "model_name": "LayoutModel",
          "model_module_version": "1.2.0",
          "state": {
            "_model_module": "@jupyter-widgets/base",
            "_model_module_version": "1.2.0",
            "_model_name": "LayoutModel",
            "_view_count": null,
            "_view_module": "@jupyter-widgets/base",
            "_view_module_version": "1.2.0",
            "_view_name": "LayoutView",
            "align_content": null,
            "align_items": null,
            "align_self": null,
            "border": null,
            "bottom": null,
            "display": null,
            "flex": null,
            "flex_flow": null,
            "grid_area": null,
            "grid_auto_columns": null,
            "grid_auto_flow": null,
            "grid_auto_rows": null,
            "grid_column": null,
            "grid_gap": null,
            "grid_row": null,
            "grid_template_areas": null,
            "grid_template_columns": null,
            "grid_template_rows": null,
            "height": null,
            "justify_content": null,
            "justify_items": null,
            "left": null,
            "margin": null,
            "max_height": null,
            "max_width": null,
            "min_height": null,
            "min_width": null,
            "object_fit": null,
            "object_position": null,
            "order": null,
            "overflow": null,
            "overflow_x": null,
            "overflow_y": null,
            "padding": null,
            "right": null,
            "top": null,
            "visibility": null,
            "width": null
          }
        },
        "0777731245364a7cbe97a92a1e258820": {
          "model_module": "@jupyter-widgets/base",
          "model_name": "LayoutModel",
          "model_module_version": "1.2.0",
          "state": {
            "_model_module": "@jupyter-widgets/base",
            "_model_module_version": "1.2.0",
            "_model_name": "LayoutModel",
            "_view_count": null,
            "_view_module": "@jupyter-widgets/base",
            "_view_module_version": "1.2.0",
            "_view_name": "LayoutView",
            "align_content": null,
            "align_items": null,
            "align_self": null,
            "border": null,
            "bottom": null,
            "display": null,
            "flex": null,
            "flex_flow": null,
            "grid_area": null,
            "grid_auto_columns": null,
            "grid_auto_flow": null,
            "grid_auto_rows": null,
            "grid_column": null,
            "grid_gap": null,
            "grid_row": null,
            "grid_template_areas": null,
            "grid_template_columns": null,
            "grid_template_rows": null,
            "height": null,
            "justify_content": null,
            "justify_items": null,
            "left": null,
            "margin": null,
            "max_height": null,
            "max_width": null,
            "min_height": null,
            "min_width": null,
            "object_fit": null,
            "object_position": null,
            "order": null,
            "overflow": null,
            "overflow_x": null,
            "overflow_y": null,
            "padding": null,
            "right": null,
            "top": null,
            "visibility": null,
            "width": null
          }
        },
        "2b417f22638249dabd85afa98ab95b84": {
          "model_module": "@jupyter-widgets/controls",
          "model_name": "DescriptionStyleModel",
          "model_module_version": "1.5.0",
          "state": {
            "_model_module": "@jupyter-widgets/controls",
            "_model_module_version": "1.5.0",
            "_model_name": "DescriptionStyleModel",
            "_view_count": null,
            "_view_module": "@jupyter-widgets/base",
            "_view_module_version": "1.2.0",
            "_view_name": "StyleView",
            "description_width": ""
          }
        },
        "43195ad1620f4b41b49d553e82cc3c09": {
          "model_module": "@jupyter-widgets/base",
          "model_name": "LayoutModel",
          "model_module_version": "1.2.0",
          "state": {
            "_model_module": "@jupyter-widgets/base",
            "_model_module_version": "1.2.0",
            "_model_name": "LayoutModel",
            "_view_count": null,
            "_view_module": "@jupyter-widgets/base",
            "_view_module_version": "1.2.0",
            "_view_name": "LayoutView",
            "align_content": null,
            "align_items": null,
            "align_self": null,
            "border": null,
            "bottom": null,
            "display": null,
            "flex": null,
            "flex_flow": null,
            "grid_area": null,
            "grid_auto_columns": null,
            "grid_auto_flow": null,
            "grid_auto_rows": null,
            "grid_column": null,
            "grid_gap": null,
            "grid_row": null,
            "grid_template_areas": null,
            "grid_template_columns": null,
            "grid_template_rows": null,
            "height": null,
            "justify_content": null,
            "justify_items": null,
            "left": null,
            "margin": null,
            "max_height": null,
            "max_width": null,
            "min_height": null,
            "min_width": null,
            "object_fit": null,
            "object_position": null,
            "order": null,
            "overflow": null,
            "overflow_x": null,
            "overflow_y": null,
            "padding": null,
            "right": null,
            "top": null,
            "visibility": null,
            "width": null
          }
        },
        "8773dccd3d3c45b28eea2ca67df71b00": {
          "model_module": "@jupyter-widgets/controls",
          "model_name": "ProgressStyleModel",
          "model_module_version": "1.5.0",
          "state": {
            "_model_module": "@jupyter-widgets/controls",
            "_model_module_version": "1.5.0",
            "_model_name": "ProgressStyleModel",
            "_view_count": null,
            "_view_module": "@jupyter-widgets/base",
            "_view_module_version": "1.2.0",
            "_view_name": "StyleView",
            "bar_color": null,
            "description_width": ""
          }
        },
        "a1b939f3b317402c88af7d9dfb4afb60": {
          "model_module": "@jupyter-widgets/base",
          "model_name": "LayoutModel",
          "model_module_version": "1.2.0",
          "state": {
            "_model_module": "@jupyter-widgets/base",
            "_model_module_version": "1.2.0",
            "_model_name": "LayoutModel",
            "_view_count": null,
            "_view_module": "@jupyter-widgets/base",
            "_view_module_version": "1.2.0",
            "_view_name": "LayoutView",
            "align_content": null,
            "align_items": null,
            "align_self": null,
            "border": null,
            "bottom": null,
            "display": null,
            "flex": null,
            "flex_flow": null,
            "grid_area": null,
            "grid_auto_columns": null,
            "grid_auto_flow": null,
            "grid_auto_rows": null,
            "grid_column": null,
            "grid_gap": null,
            "grid_row": null,
            "grid_template_areas": null,
            "grid_template_columns": null,
            "grid_template_rows": null,
            "height": null,
            "justify_content": null,
            "justify_items": null,
            "left": null,
            "margin": null,
            "max_height": null,
            "max_width": null,
            "min_height": null,
            "min_width": null,
            "object_fit": null,
            "object_position": null,
            "order": null,
            "overflow": null,
            "overflow_x": null,
            "overflow_y": null,
            "padding": null,
            "right": null,
            "top": null,
            "visibility": null,
            "width": null
          }
        },
        "4c8319ea9f2c40879dc84f3d2ec151dd": {
          "model_module": "@jupyter-widgets/controls",
          "model_name": "DescriptionStyleModel",
          "model_module_version": "1.5.0",
          "state": {
            "_model_module": "@jupyter-widgets/controls",
            "_model_module_version": "1.5.0",
            "_model_name": "DescriptionStyleModel",
            "_view_count": null,
            "_view_module": "@jupyter-widgets/base",
            "_view_module_version": "1.2.0",
            "_view_name": "StyleView",
            "description_width": ""
          }
        }
      }
    }
  },
  "cells": [
    {
      "cell_type": "markdown",
      "metadata": {
        "id": "view-in-github",
        "colab_type": "text"
      },
      "source": [
        "<a href=\"https://colab.research.google.com/github/Pipe-Runner/reinforcement-learning-experiments/blob/master/q_learning.ipynb\" target=\"_parent\"><img src=\"https://colab.research.google.com/assets/colab-badge.svg\" alt=\"Open In Colab\"/></a>"
      ]
    },
    {
      "cell_type": "markdown",
      "source": [
        "# Setup"
      ],
      "metadata": {
        "id": "1rOw56EQWNOt"
      }
    },
    {
      "cell_type": "markdown",
      "source": [
        "## Installations"
      ],
      "metadata": {
        "id": "3RpNHFLzY72C"
      }
    },
    {
      "cell_type": "code",
      "execution_count": 166,
      "metadata": {
        "id": "4t8r3bAbNby-",
        "colab": {
          "base_uri": "https://localhost:8080/"
        },
        "outputId": "60c34f20-60bf-4646-8a3f-01a895529d4a"
      },
      "outputs": [
        {
          "output_type": "stream",
          "name": "stdout",
          "text": [
            "python-opengl is already the newest version (3.1.0+dfsg-2build1).\n",
            "ffmpeg is already the newest version (7:4.2.7-0ubuntu0.1).\n",
            "xvfb is already the newest version (2:1.20.13-1ubuntu1~20.04.8).\n",
            "0 upgraded, 0 newly installed, 0 to remove and 24 not upgraded.\n"
          ]
        }
      ],
      "source": [
        "!pip install -r https://raw.githubusercontent.com/huggingface/deep-rl-class/main/notebooks/unit2/requirements-unit2.txt --quiet\n",
        "\n",
        "!sudo apt-get -qq update\n",
        "!apt install -qq python-opengl ffmpeg xvfb\n",
        "!pip3 install pyvirtualdisplay --quiet"
      ]
    },
    {
      "cell_type": "markdown",
      "source": [
        "## Imports"
      ],
      "metadata": {
        "id": "TyJ9NpmqWrcj"
      }
    },
    {
      "cell_type": "code",
      "source": [
        "import os\n",
        "from pyvirtualdisplay import Display\n",
        "from IPython import display\n",
        "import time\n",
        "\n",
        "import numpy as np\n",
        "import gymnasium as gym\n",
        "import random\n",
        "import imageio\n",
        "import os\n",
        "import tqdm\n",
        "\n",
        "import pickle5 as pickle\n",
        "from tqdm.notebook import tqdm\n",
        "import matplotlib.pyplot as plt"
      ],
      "metadata": {
        "id": "ggc4RACkWCRX"
      },
      "execution_count": 167,
      "outputs": []
    },
    {
      "cell_type": "markdown",
      "source": [
        "## Start Virtual Screen"
      ],
      "metadata": {
        "id": "HafOXZENXA0H"
      }
    },
    {
      "cell_type": "code",
      "source": [
        "virtual_display = Display(visible=0, size=(1400, 900))\n",
        "virtual_display.start()"
      ],
      "metadata": {
        "colab": {
          "base_uri": "https://localhost:8080/"
        },
        "id": "ouO9JEduXC0H",
        "outputId": "0cc63bf4-71cb-473c-a4f4-32ec244bca34"
      },
      "execution_count": 168,
      "outputs": [
        {
          "output_type": "execute_result",
          "data": {
            "text/plain": [
              "<pyvirtualdisplay.display.Display at 0x7fc045560e80>"
            ]
          },
          "metadata": {},
          "execution_count": 168
        }
      ]
    },
    {
      "cell_type": "markdown",
      "source": [
        "## Utils"
      ],
      "metadata": {
        "id": "eipLNwHq92EQ"
      }
    },
    {
      "cell_type": "code",
      "source": [
        "def show_video(env, Qtable, seed=None):\n",
        "    plt.ion()\n",
        "\n",
        "    images = []\n",
        "    terminated = False\n",
        "    truncated = False\n",
        "    state, info = env.reset()\n",
        "    img = plt.imshow(env.render())\n",
        "\n",
        "    while True:\n",
        "        img.set_data(env.render()) \n",
        "        display.display(plt.gcf())\n",
        "        plt.axis('off')\n",
        "        time.sleep(1)\n",
        "        display.clear_output(wait=True)\n",
        "\n",
        "        if terminated or truncated:\n",
        "          print(reward)\n",
        "          break\n",
        "\n",
        "        action = np.argmax(Qtable[state])\n",
        "        state, reward, terminated, truncated, info = env.step(\n",
        "            action\n",
        "        ) "
      ],
      "metadata": {
        "id": "gEB0T7fv11uH"
      },
      "execution_count": 169,
      "outputs": []
    },
    {
      "cell_type": "markdown",
      "source": [
        "# Q-Learning (Frozen Lake v1 - Slippery )"
      ],
      "metadata": {
        "id": "00h36JYkYxGC"
      }
    },
    {
      "cell_type": "markdown",
      "source": [
        "## Create Env "
      ],
      "metadata": {
        "id": "bUtptvRkXg2A"
      }
    },
    {
      "cell_type": "code",
      "source": [
        "env = gym.make(\"FrozenLake-v1\", map_name=\"4x4\", is_slippery=True, render_mode=\"rgb_array\")\n",
        "\n",
        "print(\"_____OBSERVATION SPACE_____ \\n\")\n",
        "print(\"Observation Space\", env.observation_space)\n",
        "print(\"Sample observation\", env.observation_space.sample())\n",
        "\n",
        "print(\"\\n _____ACTION SPACE_____ \\n\")\n",
        "print(\"Action Space Shape\", env.action_space.n)\n",
        "print(\"Action Space Sample\", env.action_space.sample())"
      ],
      "metadata": {
        "colab": {
          "base_uri": "https://localhost:8080/"
        },
        "id": "T-ZMNqmNXDJI",
        "outputId": "b8024bac-1584-40fe-dada-b9658aacf34a"
      },
      "execution_count": 165,
      "outputs": [
        {
          "output_type": "stream",
          "name": "stdout",
          "text": [
            "_____OBSERVATION SPACE_____ \n",
            "\n",
            "Observation Space Discrete(16)\n",
            "Sample observation 8\n",
            "\n",
            " _____ACTION SPACE_____ \n",
            "\n",
            "Action Space Shape 4\n",
            "Action Space Sample 0\n"
          ]
        }
      ]
    },
    {
      "cell_type": "markdown",
      "source": [
        "## Creating Q-Table"
      ],
      "metadata": {
        "id": "GOeVy6a9ZBK6"
      }
    },
    {
      "cell_type": "code",
      "source": [
        "state_space = env.observation_space.n\n",
        "action_space = env.action_space.n\n",
        "\n",
        "def initialize_q_table(state_space, action_space):\n",
        "    Qtable = np.zeros((state_space, action_space))\n",
        "    return Qtable\n",
        "\n",
        "Qtable_frozenlake = initialize_q_table(state_space, action_space)"
      ],
      "metadata": {
        "id": "O88sgcZKXt51"
      },
      "execution_count": 193,
      "outputs": []
    },
    {
      "cell_type": "markdown",
      "source": [
        "## Defining policy"
      ],
      "metadata": {
        "id": "GgO5Y74AZd4K"
      }
    },
    {
      "cell_type": "code",
      "source": [
        "def greedy_policy(Qtable, state):\n",
        "  # Exploitation: take the action with the highest state, action value\n",
        "  action = np.argmax(Qtable[state])\n",
        "\n",
        "  return action\n",
        "\n",
        "def epsilon_greedy_policy(Qtable, state, epsilon):\n",
        "  if np.random.random() > epsilon:\n",
        "    # exploit\n",
        "    return greedy_policy(Qtable, state)\n",
        "  else:\n",
        "    # explore\n",
        "    return env.action_space.sample()"
      ],
      "metadata": {
        "id": "G_7GsAlbZLpt"
      },
      "execution_count": 194,
      "outputs": []
    },
    {
      "cell_type": "markdown",
      "source": [
        "## Hyperparams"
      ],
      "metadata": {
        "id": "fjjma6Uucbe6"
      }
    },
    {
      "cell_type": "code",
      "source": [
        "# Training parameters\n",
        "n_training_episodes = 10000  # Total training episodes\n",
        "learning_rate = 0.9  # Learning rate\n",
        "\n",
        "# # Evaluation parameters\n",
        "n_eval_episodes = 100  # Total number of test episodes\n",
        "\n",
        "# # Environment parameters\n",
        "env_id = \"FrozenLake-v1\"  # Name of the environment\n",
        "max_steps = 99  # Max steps per episode\n",
        "gamma = 0.96  # Discounting rate\n",
        "eval_seed = []  # The evaluation seed of the environment\n",
        "\n",
        "# Exploration parameters\n",
        "max_epsilon = 1.0  # Exploration probability at start\n",
        "min_epsilon = 0.005  # Minimum exploration probability\n",
        "decay_rate = 0.0005  # Exponential decay rate for exploration prob"
      ],
      "metadata": {
        "id": "4rcmjn7fbdSX"
      },
      "execution_count": 196,
      "outputs": []
    },
    {
      "cell_type": "markdown",
      "source": [
        "## Eval"
      ],
      "metadata": {
        "id": "0UCEjUJrihRJ"
      }
    },
    {
      "cell_type": "code",
      "source": [
        "def evaluate_agent(env, max_steps, n_eval_episodes, Q, seed = None):\n",
        "    episode_rewards = []\n",
        "    for episode in range(n_eval_episodes):\n",
        "        if seed:\n",
        "            state, info = env.reset(seed=seed[episode])\n",
        "        else:\n",
        "            state, info = env.reset()\n",
        "        step = 0\n",
        "        truncated = False\n",
        "        terminated = False\n",
        "        total_rewards_ep = 0\n",
        "\n",
        "        for step in range(max_steps):\n",
        "            # Take the action (index) that have the maximum expected future reward given that state\n",
        "            action = greedy_policy(Q, state)\n",
        "            new_state, reward, terminated, truncated, info = env.step(action)\n",
        "            total_rewards_ep += reward\n",
        "\n",
        "            if terminated or truncated:\n",
        "                break\n",
        "            state = new_state\n",
        "        episode_rewards.append(total_rewards_ep)\n",
        "    mean_reward = np.mean(episode_rewards)\n",
        "    std_reward = np.std(episode_rewards)\n",
        "\n",
        "    return mean_reward, std_reward"
      ],
      "metadata": {
        "id": "BlLf1YJqiisK"
      },
      "execution_count": 197,
      "outputs": []
    },
    {
      "cell_type": "markdown",
      "source": [
        "## Training"
      ],
      "metadata": {
        "id": "yNP4nr5cctNl"
      }
    },
    {
      "cell_type": "code",
      "source": [
        "def train(n_training_episodes, min_epsilon, max_epsilon, decay_rate, env, max_steps, Qtable):\n",
        "  eval_metrics = {\n",
        "      \"episode\": [],\n",
        "      \"mean_reward\": [],\n",
        "      \"std_reward\": []\n",
        "  }\n",
        "  \n",
        "  for episode_idx in tqdm(range(n_training_episodes)):\n",
        "    epsilon = min_epsilon + (max_epsilon - min_epsilon)*np.exp(-decay_rate*episode_idx)\n",
        "\n",
        "    state, info = env.reset()\n",
        "    \n",
        "    step = 0\n",
        "    terminated = False\n",
        "    truncated = False\n",
        "\n",
        "    for step in range(max_steps):\n",
        "      action = epsilon_greedy_policy(Qtable, state, epsilon)\n",
        "\n",
        "      new_state, reward, terminated, truncated, info = env.step(action)\n",
        "\n",
        "      # Update Q(s,a):= Q(s,a) + lr [R(s,a) + gamma * max Q(s',a') - Q(s,a)]\n",
        "      Qtable[state][action] += learning_rate * ((reward + gamma * np.max(Qtable[new_state])) - Qtable[state][action])\n",
        "\n",
        "      if terminated or truncated:\n",
        "        break\n",
        "\n",
        "      # Our next state is the new state\n",
        "      state = new_state\n",
        "\n",
        "    if episode_idx % 50 == 0:\n",
        "      mean_reward, std_reward = evaluate_agent(\n",
        "          env, max_steps, \n",
        "          n_eval_episodes, \n",
        "          Qtable_frozenlake\n",
        "      )\n",
        "\n",
        "      eval_metrics[\"episode\"].append(episode_idx)\n",
        "      eval_metrics[\"mean_reward\"].append(mean_reward)\n",
        "      eval_metrics[\"std_reward\"].append(std_reward)\n",
        "\n",
        "  return Qtable, eval_metrics"
      ],
      "metadata": {
        "id": "5WeekTKbcuBc"
      },
      "execution_count": 198,
      "outputs": []
    },
    {
      "cell_type": "markdown",
      "source": [
        "## Agent Training"
      ],
      "metadata": {
        "id": "mCD3WPIYh6Tm"
      }
    },
    {
      "cell_type": "code",
      "source": [
        "Qtable_frozenlake, eval_metrics = train(n_training_episodes, min_epsilon, max_epsilon, decay_rate, env, max_steps, Qtable_frozenlake)"
      ],
      "metadata": {
        "colab": {
          "base_uri": "https://localhost:8080/",
          "height": 49,
          "referenced_widgets": [
            "405bb55eadec45628afd089d50270b42",
            "adaca6619f7e424ba691c49db7f44898",
            "9d9044ba92f740feaa847480f4fe95d0",
            "bce59e35195f49679f0184faefe6d15d",
            "19e57fb6ebfe48dd817b72e85614446c",
            "0777731245364a7cbe97a92a1e258820",
            "2b417f22638249dabd85afa98ab95b84",
            "43195ad1620f4b41b49d553e82cc3c09",
            "8773dccd3d3c45b28eea2ca67df71b00",
            "a1b939f3b317402c88af7d9dfb4afb60",
            "4c8319ea9f2c40879dc84f3d2ec151dd"
          ]
        },
        "id": "lzn91gV6h3PJ",
        "outputId": "82c62854-c9cb-4d68-c6f4-d258cf0fdb56"
      },
      "execution_count": 199,
      "outputs": [
        {
          "output_type": "display_data",
          "data": {
            "text/plain": [
              "  0%|          | 0/10000 [00:00<?, ?it/s]"
            ],
            "application/vnd.jupyter.widget-view+json": {
              "version_major": 2,
              "version_minor": 0,
              "model_id": "405bb55eadec45628afd089d50270b42"
            }
          },
          "metadata": {}
        }
      ]
    },
    {
      "cell_type": "code",
      "source": [
        "plt.plot(eval_metrics[\"episode\"], eval_metrics[\"mean_reward\"])\n",
        " \n",
        "# function to show the plot\n",
        "plt.show()"
      ],
      "metadata": {
        "colab": {
          "base_uri": "https://localhost:8080/",
          "height": 430
        },
        "id": "ySpUC-tsh-Gp",
        "outputId": "80994b92-9752-4622-aef4-e5b77f1a8647"
      },
      "execution_count": 203,
      "outputs": [
        {
          "output_type": "display_data",
          "data": {
            "text/plain": [
              "<Figure size 640x480 with 1 Axes>"
            ],
            "image/png": "[encoded data removed]"
          },
          "metadata": {}
        }
      ]
    },
    {
      "cell_type": "code",
      "source": [
        "Qtable_frozenlake"
      ],
      "metadata": {
        "colab": {
          "base_uri": "https://localhost:8080/"
        },
        "id": "b9-4Y5lfpAj1",
        "outputId": "3538951f-df21-431b-86c2-d6a5a8a20a0e"
      },
      "execution_count": 201,
      "outputs": [
        {
          "output_type": "execute_result",
          "data": {
            "text/plain": [
              "array([[4.95099319e-01, 2.77820334e-01, 7.56305347e-02, 7.90737577e-02],\n",
              "       [2.05357043e-03, 4.12436487e-03, 1.14816644e-03, 2.71573319e-01],\n",
              "       [1.65727557e-03, 3.35040960e-03, 3.56269922e-02, 1.81772099e-01],\n",
              "       [2.41197517e-03, 9.36451801e-04, 1.58877583e-03, 6.56573823e-02],\n",
              "       [3.89485464e-01, 2.14774620e-01, 4.11908483e-02, 5.08935198e-02],\n",
              "       [0.00000000e+00, 0.00000000e+00, 0.00000000e+00, 0.00000000e+00],\n",
              "       [7.21916534e-06, 6.97763917e-07, 2.56463069e-02, 3.78413648e-10],\n",
              "       [0.00000000e+00, 0.00000000e+00, 0.00000000e+00, 0.00000000e+00],\n",
              "       [4.57459411e-02, 5.11770550e-03, 2.70332436e-02, 3.09678373e-01],\n",
              "       [5.74850844e-03, 7.55212252e-01, 4.34319221e-06, 4.62757010e-02],\n",
              "       [9.49831718e-01, 4.99305649e-04, 8.73584225e-03, 1.27551186e-02],\n",
              "       [0.00000000e+00, 0.00000000e+00, 0.00000000e+00, 0.00000000e+00],\n",
              "       [0.00000000e+00, 0.00000000e+00, 0.00000000e+00, 0.00000000e+00],\n",
              "       [6.28127931e-03, 7.59372149e-02, 8.29466929e-01, 2.98130383e-01],\n",
              "       [1.01823056e-01, 9.86961020e-01, 2.01581836e-01, 1.07351734e-01],\n",
              "       [0.00000000e+00, 0.00000000e+00, 0.00000000e+00, 0.00000000e+00]])"
            ]
          },
          "metadata": {},
          "execution_count": 201
        }
      ]
    },
    {
      "cell_type": "code",
      "source": [
        "show_video(env, Qtable_frozenlake)"
      ],
      "metadata": {
        "colab": {
          "base_uri": "https://localhost:8080/",
          "height": 423
        },
        "id": "0NZZEKpW18xi",
        "outputId": "e7f2ba74-1220-4fb2-bfa6-3202081aa112"
      },
      "execution_count": 202,
      "outputs": [
        {
          "output_type": "stream",
          "name": "stdout",
          "text": [
            "1.0\n"
          ]
        },
        {
          "output_type": "display_data",
          "data": {
            "text/plain": [
              "<Figure size 640x480 with 1 Axes>"
            ],
            "image/png": "[encoded data removed]"
          },
          "metadata": {}
        }
      ]
    },
    {
      "cell_type": "code",
      "source": [],
      "metadata": {
        "id": "HTp_I4b34BED"
      },
      "execution_count": 192,
      "outputs": []
    }
  ]
}